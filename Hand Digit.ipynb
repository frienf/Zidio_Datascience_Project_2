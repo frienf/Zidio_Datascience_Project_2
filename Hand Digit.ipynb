{
 "cells": [
  {
   "cell_type": "code",
   "execution_count": 4,
   "id": "994618ff-4d29-4580-ad6e-f2ec04785bdb",
   "metadata": {},
   "outputs": [
    {
     "data": {
      "image/png": "[encoded data removed]",
      "text/plain": [
       "<Figure size 640x480 with 1 Axes>"
      ]
     },
     "metadata": {},
     "output_type": "display_data"
    },
    {
     "name": "stdout",
     "output_type": "stream",
     "text": [
      "Predicted Label: 7\n"
     ]
    }
   ],
   "source": [
    "import cv2\n",
    "import numpy as np\n",
    "from skimage.feature import hog, local_binary_pattern\n",
    "from mahotas.features import zernike_moments\n",
    "from tensorflow.keras.datasets import mnist\n",
    "from sklearn.svm import SVC\n",
    "from sklearn.metrics import accuracy_score\n",
    "import matplotlib.pyplot as plt\n",
    "from tensorflow.keras.models import Sequential\n",
    "from tensorflow.keras.layers import Dense\n",
    "\n",
    "# Load MNIST data\n",
    "(x_train, y_train), (x_test, y_test) = mnist.load_data()\n",
    "\n",
    "# Feature extraction function\n",
    "def extract_features(image):\n",
    "    # Pixel intensities\n",
    "    pixel_intensities = image.flatten()\n",
    "    \n",
    "    # HOG features\n",
    "    hog_features = hog(image, orientations=9, pixels_per_cell=(8, 8), cells_per_block=(2, 2), block_norm='L2-Hys')\n",
    "    \n",
    "    # Corner detection\n",
    "    corners = cv2.cornerHarris(image, blockSize=2, ksize=3, k=0.04).flatten()\n",
    "    \n",
    "    # Edge detection\n",
    "    edges = cv2.Canny(image, 100, 200).flatten()\n",
    "    \n",
    "    # Texture (LBP)\n",
    "    lbp_features = local_binary_pattern(image, P=8, R=1, method=\"uniform\").flatten()\n",
    "    \n",
    "    # Zernike moments\n",
    "    zm_features = zernike_moments(image, radius=15)\n",
    "    \n",
    "    # Combine all features\n",
    "    combined_features = np.hstack([pixel_intensities, hog_features, corners, edges, lbp_features, zm_features])\n",
    "    return combined_features\n",
    "\n",
    "# Extract features for the training and testing datasets\n",
    "x_train, y_train = mnist.load_data()[0]  # Training data is already loaded, but we need the labels\n",
    "x_train_features = np.array([extract_features(img) for img in x_train])\n",
    "\n",
    "# Train an SVM classifier\n",
    "clf = SVC(kernel='linear', C=1.0)\n",
    "clf.fit(x_train_features, y_train)\n",
    "\n",
    "# Save the trained model\n",
    "import joblib\n",
    "joblib.dump(clf, 'digit_recognition_model.pkl')\n",
    "\n",
    "# Select a test image\n",
    "test_image = x_test[0]  # You can choose any index here\n",
    "test_label = y_test[0]\n",
    "\n",
    "# Display the test image\n",
    "plt.imshow(test_image, cmap='gray')\n",
    "plt.title(f\"Test Label: {test_label}\")\n",
    "plt.axis('off')\n",
    "plt.show()\n",
    "\n",
    "# Extract features from the test image\n",
    "test_image_features = extract_features(test_image).reshape(1, -1)\n",
    "\n",
    "# Make a prediction on the test image\n",
    "prediction = clf.predict(test_image_features)\n",
    "print(f\"Predicted Label: {prediction[0]}\")\n",
    "\n"
   ]
  },
  {
   "cell_type": "code",
   "execution_count": null,
   "id": "d17f922b-75f4-4091-9614-b4d1e208c426",
   "metadata": {},
   "outputs": [],
   "source": []
  }
 ],
 "metadata": {
  "kernelspec": {
   "display_name": "Python 3 (ipykernel)",
   "language": "python",
   "name": "python3"
  },
  "language_info": {
   "codemirror_mode": {
    "name": "ipython",
    "version": 3
   },
   "file_extension": ".py",
   "mimetype": "text/x-python",
   "name": "python",
   "nbconvert_exporter": "python",
   "pygments_lexer": "ipython3",
   "version": "3.12.5"
  }
 },
 "nbformat": 4,
 "nbformat_minor": 5
}
